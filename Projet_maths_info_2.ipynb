{
 "cells": [
  {
   "cell_type": "markdown",
   "metadata": {},
   "source": [
    "QUILLERIET Marie-Clémentine\n",
    "\n",
    "LACOSTE Lucille\n",
    "\n",
    "SHEN Zhexiao"
   ]
  },
  {
   "cell_type": "markdown",
   "metadata": {},
   "source": [
    "# Projet maths-info n°2"
   ]
  },
  {
   "cell_type": "code",
   "execution_count": null,
   "metadata": {},
   "outputs": [],
   "source": [
    "import numpy as np\n",
    "import matplotlib.pyplot as plt\n",
    "from scipy.integrate import odeint"
   ]
  },
  {
   "cell_type": "markdown",
   "metadata": {},
   "source": [
    "## 1 - Schéma d'Euler explicite\n",
    "### Explication de la fonction\n",
    "On veut résoudre l'équation : $\\frac{dx}{dt} = f(x)$.\n",
    "Pour cela, on donne en argument $ f, x_0, dt $ et $n$ le nombre de valeurs de x qu'on veut obtenir. On considère que $ t_0 = 0 $."
   ]
  },
  {
   "cell_type": "code",
   "execution_count": null,
   "metadata": {},
   "outputs": [],
   "source": [
    "def solve_euler_explicit(f, x0, dt, n):\n",
    "    t = 0\n",
    "    x = x0\n",
    "    T = [t]\n",
    "    X = [x]\n",
    "    for i in range(n):\n",
    "        t = t + dt\n",
    "        x = x + dt*f(x)\n",
    "        T.append(t)\n",
    "        X.append(x)\n",
    "    return T, X"
   ]
  },
  {
   "cell_type": "markdown",
   "metadata": {},
   "source": [
    "### Exemples"
   ]
  },
  {
   "cell_type": "markdown",
   "metadata": {},
   "source": [
    "Avec un pas de temps correct"
   ]
  },
  {
   "cell_type": "code",
   "execution_count": null,
   "metadata": {},
   "outputs": [],
   "source": [
    "f = lambda x : x\n",
    "X = solve_euler_explicit(f, 1, 0.001, 10000)\n",
    "plt.plot(X[0], X[1])\n",
    "plt.plot(X[0], np.exp(X[0]))\n",
    "plt.legend(('Euler', 'exp'))\n",
    "plt.title('Comparaison Euler explicite - solution théorique, avec pas de temps correct')\n",
    "plt.grid(True)\n",
    "plt.show()"
   ]
  },
  {
   "cell_type": "markdown",
   "metadata": {},
   "source": [
    "Avec un pas de temps trop large"
   ]
  },
  {
   "cell_type": "code",
   "execution_count": null,
   "metadata": {},
   "outputs": [],
   "source": [
    "f = lambda x : x\n",
    "X = solve_euler_explicit(f, 1, 0.1, 100)\n",
    "plt.plot(X[0], X[1])\n",
    "plt.plot(X[0], np.exp(X[0]))\n",
    "plt.legend(('Euler', 'exp'))\n",
    "plt.title('Comparaison Euler explicite - solution théorique, avec pas de temps large')\n",
    "plt.grid(True)\n",
    "plt.show()"
   ]
  },
  {
   "cell_type": "markdown",
   "metadata": {},
   "source": [
    "## 2 - Schéma d'ordre 2 : méthode de Heun"
   ]
  },
  {
   "cell_type": "markdown",
   "metadata": {},
   "source": [
    "### Méthode de Heun\n",
    "\n",
    "De même, on donne en argument $ f, x_0, dt $ et $n$ le nombre de valeurs de x qu'on veut obtenir. On considère que $ t_0 = 0 $."
   ]
  },
  {
   "cell_type": "code",
   "execution_count": null,
   "metadata": {},
   "outputs": [],
   "source": [
    "def solve_heun(f, x0, dt, n):\n",
    "    t = 0\n",
    "    x = x0\n",
    "    T = [t]\n",
    "    X = [x]\n",
    "    for i in range(n):\n",
    "        t1 = t\n",
    "        t2 = t + dt\n",
    "        x = x + dt/2*(f(t1, x) + f(t2, x + dt*f(t1, x)))\n",
    "        t = t2\n",
    "        T.append(t)\n",
    "        X.append(x)\n",
    "    return T, X"
   ]
  },
  {
   "cell_type": "markdown",
   "metadata": {},
   "source": [
    "### Exemples"
   ]
  },
  {
   "cell_type": "markdown",
   "metadata": {},
   "source": [
    "Avec une fontion simple"
   ]
  },
  {
   "cell_type": "code",
   "execution_count": null,
   "metadata": {},
   "outputs": [],
   "source": [
    "f = lambda t,x : x\n",
    "X = solve_heun(f, 1, 0.1, 100)\n",
    "plt.plot(X[0], X[1])\n",
    "plt.plot(X[0], np.exp(X[0]))\n",
    "plt.legend(('Heun', 'exp'))\n",
    "plt.title('dx/dt = x')\n",
    "plt.grid(True)\n",
    "plt.show()"
   ]
  },
  {
   "cell_type": "markdown",
   "metadata": {},
   "source": [
    "Avec une fonction un peu moins simple\n",
    "\n",
    "$f2$ sert pour odeint, qui est une fonction pour laquelle il faut une fonction $f(x,t)$, et non pas $f(t,x)$ comme ce qui avait été fait pour la méthode de Heun. \n",
    "\n",
    "Pour voir si la méthode marche toujours, on compare la courbe obtenue avec Heun (X expérimental) à la courbe obtenue avec odeint (X théorique)."
   ]
  },
  {
   "cell_type": "code",
   "execution_count": null,
   "metadata": {},
   "outputs": [],
   "source": [
    "f = lambda t, x : t + x\n",
    "f2 = lambda x, t : t + x\n",
    "\n",
    "X_exp = solve_heun(f, 1, 0.1, 100)\n",
    "X_th = odeint(f2, 1, X_exp[0])\n",
    "\n",
    "plt.plot(X_exp[0], X_exp[1])\n",
    "plt.plot(X_exp[0], X_th)\n",
    "plt.legend(('Heun', 'odeint'))\n",
    "plt.title('dx/dt = t + x')\n",
    "plt.grid(True)\n",
    "plt.show()"
   ]
  },
  {
   "cell_type": "markdown",
   "metadata": {},
   "source": [
    "## 3 - Erreur locale liée au schéma d'Euler explicite"
   ]
  },
  {
   "cell_type": "markdown",
   "metadata": {},
   "source": [
    "On a par définition :\n",
    "    $$e_{j+1}= x_j + \\int_{t_j}^{t_{j+1}}f(s,x(s))ds - x_{j+1}$$\n",
    "\n",
    "Il s'agit d'un schéma d'Euler explicite donc \n",
    "$x_{j+1}=x_j+\\Delta t_j f(t_j,x_j) \\  et   \\int_{t_j}^{t_{j+1}}f(s,x(s))ds = x(t_{j+1})-x(t_j)$.\n",
    "\n",
    "Donc $$e_{j+1}=x(t_{j+1})-x(t_j)-\\Delta t_j f(t_j,x_j)$$\n",
    "Par développement de Taylor, on a :\n",
    "$$x(t_{j+1})-x(t_j) = \\Delta t_j x'(t_j)+ \\cfrac{{\\Delta t_j }^2}{2} x''(t_j) + O({\\Delta t_j} ^3)$$\n",
    "Puis $$e_{j+1}=\\Delta t_j f(t_j,x(t_j))+ \\cfrac{{\\Delta t_j }^2}{2} x''(t_j) + O({\\Delta t_j }^3)-\\Delta t_j f(t_j,x_j)$$\n",
    "or ici $x_j=x(t_j)$ donc $$e_{j+1}=\\cfrac{{\\Delta t_j }^2}{2} x''(t_j) + O({\\Delta t_j} ^3)$$\n",
    "\n",
    "Montrons que $\\Delta t_j x''(t_j)=f(t_{j+1},x_{j+1})-f(t_j,x_j)+ O({\\Delta t_j}^2)$.\n",
    "\n",
    "On a \\begin{align} f(t_{j+1},x_{j+1})-f(t_j,x_j)&=f(t_j+\\Delta t_j,x_j+\\Delta t_j f(x_j,t_j))-f(t_j,x_j) \\\\\n",
    "&= f(t_j,x_j) +\\Delta t_j \\partial _1 f (t_j,x(t_j)) + x'(t_j) \\partial _2 f(t_j,x(t_j)) + O({\\Delta t_j}^2) -f(t_j,x_j) \\\\\n",
    "&=\\Delta t_j \\partial _1 f (t_j,x(t_j)) + x'(t_j) \\partial _2 f(t_j,x(t_j)) ) + O({\\Delta t_j}^2 \\\\\n",
    "&=\\Delta t_j \\cfrac{d}{dt}f(t_j,x(t_j)) + O({\\Delta t_j}^2) \\\\\n",
    "&=\\Delta t_j x''(t_j) + O({\\Delta t_j}^2) \\\\\n",
    "\\end{align}\n",
    "\n",
    "Donc quand on remplace : $$e_{j+1}=\\cfrac{\\Delta t_j }{2} (f(t_{j+1},x_{j+1})-f(t_j,x_j)+ O({\\Delta t_j}^2)) + O({\\Delta t_j} ^3)$$ i.e. $$e_{j+1}=\\cfrac{\\Delta t_j }{2} (f(t_{j+1},x_{j+1})-f(t_j,x_j)) + O({\\Delta t_j} ^3)$$\n",
    "\n",
    "Par passage à la norme et inégalité triangulaire,\n",
    "$$||e_{j+1}||=\\cfrac{\\Delta t_j }{2} ||f(t_{j+1},x_{j+1})-f(t_j,x_j)|| + O({\\Delta t_j} ^3)$$\n"
   ]
  },
  {
   "cell_type": "markdown",
   "metadata": {},
   "source": [
    "## 4 - Stratégie d'adaptation : $\\Delta t_{new}$"
   ]
  },
  {
   "cell_type": "markdown",
   "metadata": {},
   "source": [
    "Montrons que $ e^{j+1} = O(\\Delta {t_j}^2) $.\n",
    "\n",
    "Par définition : \n",
    "$ e^{j+1} = x_j + \\displaystyle \\int_{t_j}^{t_{j+1}} f(s,x(s))ds \\ - x_{j+1} $\n",
    "\n",
    "Donc :\n",
    "\\begin{align} e^{j+1} &= x_j + x(t_{j+1}) - x(t_j) - (x_j + \\Delta t_jf(t_j, x_j)) \\\\\n",
    "&= x(t_{j+1}) - x(t_j) - \\Delta t_jf(t_j, x_j) \\\\\n",
    "&= \\Delta t_j\\overset{.}{x}(t_j) - \\Delta t_jf(t_j, x_j) + O(\\Delta {t_j}^2) \\\\\n",
    "&= O(\\Delta {t_j}^2) \\\\\n",
    "\\end{align}"
   ]
  },
  {
   "cell_type": "markdown",
   "metadata": {},
   "source": [
    "Par ailleurs, en prenant\n",
    "$ \\Delta t_{new} = \\Delta t_j \\sqrt{\\frac{Tol_{abs}}{||e^{j+1}||}} $,\n",
    "on obtient avec le résultat précédent : \n",
    "$ e^{j+2} = O({\\Delta t_{new}}^2) = O({\\Delta t_j}^2) \\frac{Tol_{abs}}{||e^{j+1}||} $.\n",
    "\n",
    "Donc si $||e^{j+1}||$ est plus grand que $Tol_{abs}$, $e^{j+2}$ est plus petit que $e^{j+1}$."
   ]
  },
  {
   "cell_type": "markdown",
   "metadata": {},
   "source": [
    "## 5 - Euler explicite avec un pas variable"
   ]
  },
  {
   "cell_type": "markdown",
   "metadata": {},
   "source": [
    "### Explication de la méthode"
   ]
  },
  {
   "cell_type": "markdown",
   "metadata": {},
   "source": [
    "La méthode d'Euler avec pas variable retourne une liste de temps et une liste avec les valeurs de la fonction aux temps en question.\n",
    "\n",
    "Supposons que l'on vienne d'ajouter le temps $t$ à la liste des temps, et la valeur $x$ de la fonction à ce temps $t$. Expliquons alors comment la méthode donnée permet de calculer la valeur suivante de la fonction.\n",
    "\n",
    "On fait un premier bond en avant, de longueur $dt$ comprise entre $dt_{min}$ et $dt_{max}$, et on calcule la valeur de la fonction à ce nouvel endroit avec Euler explicite. Pour faire un second bond en avant, on calcule une nouvelle valeur de $dt$ :\n",
    "- si $dt$ devient trop petit, on saute directement à $t + dt_{max}$ et on calcule la valeur de la fonction à cet endroit avec la méthode d'Euler explicite, en utilisant la valeur obtenue à $t$.\n",
    "- si $dt$ devient trop grand, on fixe dt à $\\frac{dtmax}{2}$.\n",
    "\n",
    "Après cet ajustement du pas, on calcule la valeur de la fonction au point où on arrive, en utilisant la valeur obtenue à $t$.\n",
    "\n",
    "On réitère cette étape jusqu'à arriver au delà de $t + dt_{max}$, auquel cas on revient en arrière à $t + dt_{max}$ et on calcule (toujours grâce à Euler) la valeur de la fonction en ce point.\n",
    "\n",
    "Donc d'une manière ou d'une autre, on finit toujours par calculer la valeur de la fonction à $t + dt_{max}$. On ajoute alors cette valeur à la liste des valeurs retournée. "
   ]
  },
  {
   "cell_type": "markdown",
   "metadata": {},
   "source": [
    "### Exemples"
   ]
  },
  {
   "cell_type": "code",
   "execution_count": null,
   "metadata": {},
   "outputs": [],
   "source": [
    "def solve_ivp_euler_explicit_variable_step(f, t0, x0, t_f, dtmin = 1e-16, dtmax = 0.01, atol = 1e-6):\n",
    "    dt = dtmax/10; # initial integration step\n",
    "    ts, xs = [t0], [x0]  # storage variables\n",
    "    t = t0\n",
    "    ti = 0  # internal time keeping track of time since latest storage point : must remain below dtmax\n",
    "    x = x0\n",
    "    while ts[-1] < t_f:\n",
    "        while ti < dtmax:\n",
    "            t_next, ti_next, x_next = t + dt, ti + dt, x + dt * f(x)\n",
    "            x_back = x_next - dt * f(x_next)\n",
    "            ratio_abs_error = atol / (np.linalg.norm(x_back-x)/2)\n",
    "            dt = 0.9 * dt * np.sqrt(ratio_abs_error)\n",
    "            if dt < dtmin:\n",
    "                raise ValueError(\"Time step below minimum\")\n",
    "            elif dt > dtmax/2:\n",
    "                dt = dtmax/2\n",
    "            t, ti, x = t_next, ti_next, x_next\n",
    "        dt2DT = dtmax - ti # time left to dtmax\n",
    "        t_next, ti_next, x_next = t + dt2DT, 0, x + dt2DT * f(x)\n",
    "        ts = np.vstack([ts,t_next])\n",
    "        xs = np.vstack([xs,x_next])\n",
    "        t, ti, x = t_next, ti_next, x_next\n",
    "    return ts, xs"
   ]
  },
  {
   "cell_type": "markdown",
   "metadata": {},
   "source": [
    "Dans la suite, on compare sur une même équation les méthodes d'Euler explicite et d'Euler explicite à pas variable, avec les \"mêmes pas\" (0.01 pour Euler explicite, et dtmax = 0.01 pour Euler à pas variable).\n",
    "\n",
    "On voit qu'effectivment, Euler à pas variable donne un meilleur résultat qu'Euler explicite."
   ]
  },
  {
   "cell_type": "code",
   "execution_count": null,
   "metadata": {},
   "outputs": [],
   "source": [
    "def f(x):\n",
    "    return x*10\n",
    "\n",
    "t1, x1 = solve_euler_explicit(f, 1, 0.01, 100)\n",
    "t2, x2 = solve_ivp_euler_explicit_variable_step(f, 0, 1, 1)\n",
    "t3 = np.arange(0, 1, 0.01)\n",
    "x3 = np.exp(10*t3)"
   ]
  },
  {
   "cell_type": "code",
   "execution_count": null,
   "metadata": {},
   "outputs": [],
   "source": [
    "plt.figure()\n",
    "plt.plot(t1, x1)\n",
    "plt.plot(t3, x3)\n",
    "plt.legend(('solve_euler_explicit', 'solution théorique'))\n",
    "plt.grid(True)"
   ]
  },
  {
   "cell_type": "code",
   "execution_count": null,
   "metadata": {},
   "outputs": [],
   "source": [
    "plt.figure()\n",
    "plt.plot(t2, x2)\n",
    "plt.plot(t3, x3)\n",
    "plt.legend(('solve_euler_explicit_variable_step', 'solution théorique'))\n",
    "plt.grid(True)"
   ]
  }
 ],
 "metadata": {
  "kernelspec": {
   "display_name": "Python 3",
   "language": "python",
   "name": "python3"
  },
  "language_info": {
   "codemirror_mode": {
    "name": "ipython",
    "version": 3
   },
   "file_extension": ".py",
   "mimetype": "text/x-python",
   "name": "python",
   "nbconvert_exporter": "python",
   "pygments_lexer": "ipython3",
   "version": "3.7.3"
  }
 },
 "nbformat": 4,
 "nbformat_minor": 2
}
